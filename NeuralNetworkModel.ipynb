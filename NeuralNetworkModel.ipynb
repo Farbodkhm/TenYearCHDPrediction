{
 "cells": [
  {
   "cell_type": "markdown",
   "source": [
    "## Heart Disease Prediction(ANN Model)\n",
    "### Author : Farbodkhm"
   ],
   "metadata": {
    "collapsed": false
   }
  },
  {
   "cell_type": "code",
   "execution_count": 40,
   "metadata": {
    "collapsed": true
   },
   "outputs": [],
   "source": [
    "import numpy as np\n",
    "import pandas as pd\n",
    "import seaborn as sns\n",
    "import tensorflow as tf\n",
    "import matplotlib.pyplot as plt\n",
    "import plotly.express as px\n",
    "from sklearn.model_selection import cross_val_score\n",
    "import warnings\n",
    "from sklearn.preprocessing import LabelEncoder,StandardScaler,MinMaxScaler,RobustScaler\n",
    "from sklearn.compose import ColumnTransformer\n",
    "from sklearn.preprocessing import OneHotEncoder\n",
    "from sklearn.model_selection import train_test_split\n",
    "from sklearn.model_selection import GridSearchCV\n",
    "from sklearn.linear_model import LinearRegression\n",
    "from sklearn.preprocessing import PolynomialFeatures\n",
    "from sklearn.svm import SVR, SVC\n",
    "from sklearn.tree import DecisionTreeRegressor\n",
    "from sklearn.linear_model import LogisticRegression\n",
    "from sklearn.decomposition import KernelPCA\n",
    "from xgboost import XGBClassifier\n",
    "from sklearn.discriminant_analysis import LinearDiscriminantAnalysis as LDA\n",
    "from lightgbm import LGBMRegressor\n",
    "from sklearn.naive_bayes import GaussianNB\n",
    "from sklearn.impute import SimpleImputer\n",
    "from sklearn.decomposition import PCA\n",
    "from sklearn.neighbors import KNeighborsClassifier\n",
    "from sklearn.tree import DecisionTreeClassifier\n",
    "from sklearn.ensemble import RandomForestClassifier, RandomForestRegressor, GradientBoostingRegressor, ExtraTreesRegressor, BaggingRegressor, AdaBoostRegressor, IsolationForest, RandomTreesEmbedding, HistGradientBoostingRegressor\n",
    "from sklearn.metrics import ConfusionMatrixDisplay, accuracy_score, confusion_matrix, r2_score, explained_variance_score, max_error, mean_squared_error, mean_absolute_percentage_error, d2_absolute_error_score, d2_pinball_score, d2_tweedie_score, mean_absolute_error\n",
    "warnings.filterwarnings(\"ignore\")"
   ]
  },
  {
   "cell_type": "markdown",
   "source": [
    "## Importing Dataset"
   ],
   "metadata": {
    "collapsed": false
   }
  },
  {
   "cell_type": "code",
   "execution_count": 41,
   "outputs": [
    {
     "data": {
      "text/plain": "   male  age  education  currentSmoker  cigsPerDay  BPMeds  prevalentStroke  \\\n0     1   39        4.0              0         0.0     0.0                0   \n1     0   46        2.0              0         0.0     0.0                0   \n2     1   48        1.0              1        20.0     0.0                0   \n3     0   61        3.0              1        30.0     0.0                0   \n4     0   46        3.0              1        23.0     0.0                0   \n\n   prevalentHyp  diabetes  totChol  sysBP  diaBP    BMI  heartRate  glucose  \\\n0             0         0    195.0  106.0   70.0  26.97       80.0     77.0   \n1             0         0    250.0  121.0   81.0  28.73       95.0     76.0   \n2             0         0    245.0  127.5   80.0  25.34       75.0     70.0   \n3             1         0    225.0  150.0   95.0  28.58       65.0    103.0   \n4             0         0    285.0  130.0   84.0  23.10       85.0     85.0   \n\n   TenYearCHD  \n0           0  \n1           0  \n2           0  \n3           1  \n4           0  ",
      "text/html": "<div>\n<style scoped>\n    .dataframe tbody tr th:only-of-type {\n        vertical-align: middle;\n    }\n\n    .dataframe tbody tr th {\n        vertical-align: top;\n    }\n\n    .dataframe thead th {\n        text-align: right;\n    }\n</style>\n<table border=\"1\" class=\"dataframe\">\n  <thead>\n    <tr style=\"text-align: right;\">\n      <th></th>\n      <th>male</th>\n      <th>age</th>\n      <th>education</th>\n      <th>currentSmoker</th>\n      <th>cigsPerDay</th>\n      <th>BPMeds</th>\n      <th>prevalentStroke</th>\n      <th>prevalentHyp</th>\n      <th>diabetes</th>\n      <th>totChol</th>\n      <th>sysBP</th>\n      <th>diaBP</th>\n      <th>BMI</th>\n      <th>heartRate</th>\n      <th>glucose</th>\n      <th>TenYearCHD</th>\n    </tr>\n  </thead>\n  <tbody>\n    <tr>\n      <th>0</th>\n      <td>1</td>\n      <td>39</td>\n      <td>4.0</td>\n      <td>0</td>\n      <td>0.0</td>\n      <td>0.0</td>\n      <td>0</td>\n      <td>0</td>\n      <td>0</td>\n      <td>195.0</td>\n      <td>106.0</td>\n      <td>70.0</td>\n      <td>26.97</td>\n      <td>80.0</td>\n      <td>77.0</td>\n      <td>0</td>\n    </tr>\n    <tr>\n      <th>1</th>\n      <td>0</td>\n      <td>46</td>\n      <td>2.0</td>\n      <td>0</td>\n      <td>0.0</td>\n      <td>0.0</td>\n      <td>0</td>\n      <td>0</td>\n      <td>0</td>\n      <td>250.0</td>\n      <td>121.0</td>\n      <td>81.0</td>\n      <td>28.73</td>\n      <td>95.0</td>\n      <td>76.0</td>\n      <td>0</td>\n    </tr>\n    <tr>\n      <th>2</th>\n      <td>1</td>\n      <td>48</td>\n      <td>1.0</td>\n      <td>1</td>\n      <td>20.0</td>\n      <td>0.0</td>\n      <td>0</td>\n      <td>0</td>\n      <td>0</td>\n      <td>245.0</td>\n      <td>127.5</td>\n      <td>80.0</td>\n      <td>25.34</td>\n      <td>75.0</td>\n      <td>70.0</td>\n      <td>0</td>\n    </tr>\n    <tr>\n      <th>3</th>\n      <td>0</td>\n      <td>61</td>\n      <td>3.0</td>\n      <td>1</td>\n      <td>30.0</td>\n      <td>0.0</td>\n      <td>0</td>\n      <td>1</td>\n      <td>0</td>\n      <td>225.0</td>\n      <td>150.0</td>\n      <td>95.0</td>\n      <td>28.58</td>\n      <td>65.0</td>\n      <td>103.0</td>\n      <td>1</td>\n    </tr>\n    <tr>\n      <th>4</th>\n      <td>0</td>\n      <td>46</td>\n      <td>3.0</td>\n      <td>1</td>\n      <td>23.0</td>\n      <td>0.0</td>\n      <td>0</td>\n      <td>0</td>\n      <td>0</td>\n      <td>285.0</td>\n      <td>130.0</td>\n      <td>84.0</td>\n      <td>23.10</td>\n      <td>85.0</td>\n      <td>85.0</td>\n      <td>0</td>\n    </tr>\n  </tbody>\n</table>\n</div>"
     },
     "execution_count": 41,
     "metadata": {},
     "output_type": "execute_result"
    }
   ],
   "source": [
    "data = pd.read_csv('TenYearCHD.csv')\n",
    "data.head()"
   ],
   "metadata": {
    "collapsed": false
   }
  },
  {
   "cell_type": "markdown",
   "source": [
    "## EDA"
   ],
   "metadata": {
    "collapsed": false
   }
  },
  {
   "cell_type": "code",
   "execution_count": 42,
   "outputs": [
    {
     "name": "stdout",
     "output_type": "stream",
     "text": [
      "<class 'pandas.core.frame.DataFrame'>\n",
      "RangeIndex: 4238 entries, 0 to 4237\n",
      "Data columns (total 16 columns):\n",
      " #   Column           Non-Null Count  Dtype  \n",
      "---  ------           --------------  -----  \n",
      " 0   male             4238 non-null   int64  \n",
      " 1   age              4238 non-null   int64  \n",
      " 2   education        4133 non-null   float64\n",
      " 3   currentSmoker    4238 non-null   int64  \n",
      " 4   cigsPerDay       4209 non-null   float64\n",
      " 5   BPMeds           4185 non-null   float64\n",
      " 6   prevalentStroke  4238 non-null   int64  \n",
      " 7   prevalentHyp     4238 non-null   int64  \n",
      " 8   diabetes         4238 non-null   int64  \n",
      " 9   totChol          4188 non-null   float64\n",
      " 10  sysBP            4238 non-null   float64\n",
      " 11  diaBP            4238 non-null   float64\n",
      " 12  BMI              4219 non-null   float64\n",
      " 13  heartRate        4237 non-null   float64\n",
      " 14  glucose          3850 non-null   float64\n",
      " 15  TenYearCHD       4238 non-null   int64  \n",
      "dtypes: float64(9), int64(7)\n",
      "memory usage: 529.9 KB\n"
     ]
    }
   ],
   "source": [
    "data.info()"
   ],
   "metadata": {
    "collapsed": false
   }
  },
  {
   "cell_type": "code",
   "execution_count": 43,
   "outputs": [
    {
     "data": {
      "text/plain": "                  count        mean        std     min     25%    50%  \\\nmale             4238.0    0.429212   0.495022    0.00    0.00    0.0   \nage              4238.0   49.584946   8.572160   32.00   42.00   49.0   \neducation        4133.0    1.978950   1.019791    1.00    1.00    2.0   \ncurrentSmoker    4238.0    0.494101   0.500024    0.00    0.00    0.0   \ncigsPerDay       4209.0    9.003089  11.920094    0.00    0.00    0.0   \nBPMeds           4185.0    0.029630   0.169584    0.00    0.00    0.0   \nprevalentStroke  4238.0    0.005899   0.076587    0.00    0.00    0.0   \nprevalentHyp     4238.0    0.310524   0.462763    0.00    0.00    0.0   \ndiabetes         4238.0    0.025720   0.158316    0.00    0.00    0.0   \ntotChol          4188.0  236.721585  44.590334  107.00  206.00  234.0   \nsysBP            4238.0  132.352407  22.038097   83.50  117.00  128.0   \ndiaBP            4238.0   82.893464  11.910850   48.00   75.00   82.0   \nBMI              4219.0   25.802008   4.080111   15.54   23.07   25.4   \nheartRate        4237.0   75.878924  12.026596   44.00   68.00   75.0   \nglucose          3850.0   81.966753  23.959998   40.00   71.00   78.0   \nTenYearCHD       4238.0    0.151958   0.359023    0.00    0.00    0.0   \n\n                     75%    max  \nmale               1.000    1.0  \nage               56.000   70.0  \neducation          3.000    4.0  \ncurrentSmoker      1.000    1.0  \ncigsPerDay        20.000   70.0  \nBPMeds             0.000    1.0  \nprevalentStroke    0.000    1.0  \nprevalentHyp       1.000    1.0  \ndiabetes           0.000    1.0  \ntotChol          263.000  696.0  \nsysBP            144.000  295.0  \ndiaBP             89.875  142.5  \nBMI               28.040   56.8  \nheartRate         83.000  143.0  \nglucose           87.000  394.0  \nTenYearCHD         0.000    1.0  ",
      "text/html": "<div>\n<style scoped>\n    .dataframe tbody tr th:only-of-type {\n        vertical-align: middle;\n    }\n\n    .dataframe tbody tr th {\n        vertical-align: top;\n    }\n\n    .dataframe thead th {\n        text-align: right;\n    }\n</style>\n<table border=\"1\" class=\"dataframe\">\n  <thead>\n    <tr style=\"text-align: right;\">\n      <th></th>\n      <th>count</th>\n      <th>mean</th>\n      <th>std</th>\n      <th>min</th>\n      <th>25%</th>\n      <th>50%</th>\n      <th>75%</th>\n      <th>max</th>\n    </tr>\n  </thead>\n  <tbody>\n    <tr>\n      <th>male</th>\n      <td>4238.0</td>\n      <td>0.429212</td>\n      <td>0.495022</td>\n      <td>0.00</td>\n      <td>0.00</td>\n      <td>0.0</td>\n      <td>1.000</td>\n      <td>1.0</td>\n    </tr>\n    <tr>\n      <th>age</th>\n      <td>4238.0</td>\n      <td>49.584946</td>\n      <td>8.572160</td>\n      <td>32.00</td>\n      <td>42.00</td>\n      <td>49.0</td>\n      <td>56.000</td>\n      <td>70.0</td>\n    </tr>\n    <tr>\n      <th>education</th>\n      <td>4133.0</td>\n      <td>1.978950</td>\n      <td>1.019791</td>\n      <td>1.00</td>\n      <td>1.00</td>\n      <td>2.0</td>\n      <td>3.000</td>\n      <td>4.0</td>\n    </tr>\n    <tr>\n      <th>currentSmoker</th>\n      <td>4238.0</td>\n      <td>0.494101</td>\n      <td>0.500024</td>\n      <td>0.00</td>\n      <td>0.00</td>\n      <td>0.0</td>\n      <td>1.000</td>\n      <td>1.0</td>\n    </tr>\n    <tr>\n      <th>cigsPerDay</th>\n      <td>4209.0</td>\n      <td>9.003089</td>\n      <td>11.920094</td>\n      <td>0.00</td>\n      <td>0.00</td>\n      <td>0.0</td>\n      <td>20.000</td>\n      <td>70.0</td>\n    </tr>\n    <tr>\n      <th>BPMeds</th>\n      <td>4185.0</td>\n      <td>0.029630</td>\n      <td>0.169584</td>\n      <td>0.00</td>\n      <td>0.00</td>\n      <td>0.0</td>\n      <td>0.000</td>\n      <td>1.0</td>\n    </tr>\n    <tr>\n      <th>prevalentStroke</th>\n      <td>4238.0</td>\n      <td>0.005899</td>\n      <td>0.076587</td>\n      <td>0.00</td>\n      <td>0.00</td>\n      <td>0.0</td>\n      <td>0.000</td>\n      <td>1.0</td>\n    </tr>\n    <tr>\n      <th>prevalentHyp</th>\n      <td>4238.0</td>\n      <td>0.310524</td>\n      <td>0.462763</td>\n      <td>0.00</td>\n      <td>0.00</td>\n      <td>0.0</td>\n      <td>1.000</td>\n      <td>1.0</td>\n    </tr>\n    <tr>\n      <th>diabetes</th>\n      <td>4238.0</td>\n      <td>0.025720</td>\n      <td>0.158316</td>\n      <td>0.00</td>\n      <td>0.00</td>\n      <td>0.0</td>\n      <td>0.000</td>\n      <td>1.0</td>\n    </tr>\n    <tr>\n      <th>totChol</th>\n      <td>4188.0</td>\n      <td>236.721585</td>\n      <td>44.590334</td>\n      <td>107.00</td>\n      <td>206.00</td>\n      <td>234.0</td>\n      <td>263.000</td>\n      <td>696.0</td>\n    </tr>\n    <tr>\n      <th>sysBP</th>\n      <td>4238.0</td>\n      <td>132.352407</td>\n      <td>22.038097</td>\n      <td>83.50</td>\n      <td>117.00</td>\n      <td>128.0</td>\n      <td>144.000</td>\n      <td>295.0</td>\n    </tr>\n    <tr>\n      <th>diaBP</th>\n      <td>4238.0</td>\n      <td>82.893464</td>\n      <td>11.910850</td>\n      <td>48.00</td>\n      <td>75.00</td>\n      <td>82.0</td>\n      <td>89.875</td>\n      <td>142.5</td>\n    </tr>\n    <tr>\n      <th>BMI</th>\n      <td>4219.0</td>\n      <td>25.802008</td>\n      <td>4.080111</td>\n      <td>15.54</td>\n      <td>23.07</td>\n      <td>25.4</td>\n      <td>28.040</td>\n      <td>56.8</td>\n    </tr>\n    <tr>\n      <th>heartRate</th>\n      <td>4237.0</td>\n      <td>75.878924</td>\n      <td>12.026596</td>\n      <td>44.00</td>\n      <td>68.00</td>\n      <td>75.0</td>\n      <td>83.000</td>\n      <td>143.0</td>\n    </tr>\n    <tr>\n      <th>glucose</th>\n      <td>3850.0</td>\n      <td>81.966753</td>\n      <td>23.959998</td>\n      <td>40.00</td>\n      <td>71.00</td>\n      <td>78.0</td>\n      <td>87.000</td>\n      <td>394.0</td>\n    </tr>\n    <tr>\n      <th>TenYearCHD</th>\n      <td>4238.0</td>\n      <td>0.151958</td>\n      <td>0.359023</td>\n      <td>0.00</td>\n      <td>0.00</td>\n      <td>0.0</td>\n      <td>0.000</td>\n      <td>1.0</td>\n    </tr>\n  </tbody>\n</table>\n</div>"
     },
     "execution_count": 43,
     "metadata": {},
     "output_type": "execute_result"
    }
   ],
   "source": [
    "data.describe().transpose()"
   ],
   "metadata": {
    "collapsed": false
   }
  },
  {
   "cell_type": "code",
   "execution_count": 44,
   "outputs": [
    {
     "data": {
      "text/plain": "0"
     },
     "execution_count": 44,
     "metadata": {},
     "output_type": "execute_result"
    }
   ],
   "source": [
    "data[data.duplicated()].size"
   ],
   "metadata": {
    "collapsed": false
   }
  },
  {
   "cell_type": "code",
   "execution_count": 45,
   "outputs": [
    {
     "data": {
      "text/plain": "male                 0\nage                  0\neducation          105\ncurrentSmoker        0\ncigsPerDay          29\nBPMeds              53\nprevalentStroke      0\nprevalentHyp         0\ndiabetes             0\ntotChol             50\nsysBP                0\ndiaBP                0\nBMI                 19\nheartRate            1\nglucose            388\nTenYearCHD           0\ndtype: int64"
     },
     "execution_count": 45,
     "metadata": {},
     "output_type": "execute_result"
    }
   ],
   "source": [
    "data.isnull().sum()"
   ],
   "metadata": {
    "collapsed": false
   }
  },
  {
   "cell_type": "markdown",
   "source": [
    "## Some Visualizations"
   ],
   "metadata": {
    "collapsed": false
   }
  },
  {
   "cell_type": "code",
   "execution_count": 46,
   "outputs": [
    {
     "data": {
      "text/plain": "Text(0.5, 1.0, 'Gender')"
     },
     "execution_count": 46,
     "metadata": {},
     "output_type": "execute_result"
    },
    {
     "data": {
      "text/plain": "<Figure size 640x480 with 1 Axes>",
      "image/png": "[encoded data removed]"
     },
     "metadata": {},
     "output_type": "display_data"
    }
   ],
   "source": [
    "sns.countplot(x='male', data=data)\n",
    "plt.title('Gender')"
   ],
   "metadata": {
    "collapsed": false
   }
  },
  {
   "cell_type": "code",
   "execution_count": 47,
   "outputs": [
    {
     "data": {
      "text/plain": "<Axes: title={'center': 'Smoker'}, xlabel='currentSmoker', ylabel='count'>"
     },
     "execution_count": 47,
     "metadata": {},
     "output_type": "execute_result"
    },
    {
     "data": {
      "text/plain": "<Figure size 640x480 with 1 Axes>",
      "image/png": "[encoded data removed]"
     },
     "metadata": {},
     "output_type": "display_data"
    }
   ],
   "source": [
    "plt.title('Smoker')\n",
    "sns.countplot(x='currentSmoker',data=data)"
   ],
   "metadata": {
    "collapsed": false
   }
  },
  {
   "cell_type": "code",
   "execution_count": 48,
   "outputs": [
    {
     "data": {
      "text/plain": "<Axes: >"
     },
     "execution_count": 48,
     "metadata": {},
     "output_type": "execute_result"
    },
    {
     "data": {
      "text/plain": "<Figure size 640x480 with 1 Axes>",
      "image/png": "[encoded data removed]"
     },
     "metadata": {},
     "output_type": "display_data"
    }
   ],
   "source": [
    "data.corr()['TenYearCHD'][:-1].plot(kind='bar')"
   ],
   "metadata": {
    "collapsed": false
   }
  },
  {
   "cell_type": "markdown",
   "source": [
    "## Dealing With Missing Data"
   ],
   "metadata": {
    "collapsed": false
   }
  },
  {
   "cell_type": "code",
   "execution_count": 49,
   "outputs": [],
   "source": [
    "data['education'] = data['education'].fillna(value=data['education'].mean())"
   ],
   "metadata": {
    "collapsed": false
   }
  },
  {
   "cell_type": "code",
   "execution_count": 50,
   "outputs": [],
   "source": [
    "data['cigsPerDay'] = data['cigsPerDay'].fillna(value=data['cigsPerDay'].mean())"
   ],
   "metadata": {
    "collapsed": false
   }
  },
  {
   "cell_type": "code",
   "execution_count": 51,
   "outputs": [],
   "source": [
    "data['BPMeds'] = data['BPMeds'].fillna(value=data['BPMeds'].mean())"
   ],
   "metadata": {
    "collapsed": false
   }
  },
  {
   "cell_type": "code",
   "execution_count": 52,
   "outputs": [],
   "source": [
    "data['totChol'] = data['totChol'].fillna(value=data['totChol'].mean())"
   ],
   "metadata": {
    "collapsed": false
   }
  },
  {
   "cell_type": "code",
   "execution_count": 53,
   "outputs": [],
   "source": [
    "data['BMI'] = data['BMI'].fillna(value=data['BMI'].mean())"
   ],
   "metadata": {
    "collapsed": false
   }
  },
  {
   "cell_type": "code",
   "execution_count": 54,
   "outputs": [],
   "source": [
    "data['heartRate'] = data['heartRate'].fillna(value=data['heartRate'].mean())"
   ],
   "metadata": {
    "collapsed": false
   }
  },
  {
   "cell_type": "code",
   "execution_count": 55,
   "outputs": [],
   "source": [
    "data['glucose'] = data['glucose'].fillna(value=data['glucose'].mean())"
   ],
   "metadata": {
    "collapsed": false
   }
  },
  {
   "cell_type": "code",
   "execution_count": 56,
   "outputs": [
    {
     "data": {
      "text/plain": "male               0\nage                0\neducation          0\ncurrentSmoker      0\ncigsPerDay         0\nBPMeds             0\nprevalentStroke    0\nprevalentHyp       0\ndiabetes           0\ntotChol            0\nsysBP              0\ndiaBP              0\nBMI                0\nheartRate          0\nglucose            0\nTenYearCHD         0\ndtype: int64"
     },
     "execution_count": 56,
     "metadata": {},
     "output_type": "execute_result"
    }
   ],
   "source": [
    "data.isnull().sum()"
   ],
   "metadata": {
    "collapsed": false
   }
  },
  {
   "cell_type": "markdown",
   "source": [
    "## Split Train & Test Data"
   ],
   "metadata": {
    "collapsed": false
   }
  },
  {
   "cell_type": "code",
   "execution_count": 57,
   "outputs": [],
   "source": [
    "x = data.iloc[:, :-1].values\n",
    "y = data.iloc[:, -1].values.reshape(-1, 1)"
   ],
   "metadata": {
    "collapsed": false
   }
  },
  {
   "cell_type": "code",
   "execution_count": 58,
   "outputs": [],
   "source": [
    "x_train, x_test, y_train, y_test = train_test_split(x, y, test_size=0.2, random_state=0)"
   ],
   "metadata": {
    "collapsed": false
   }
  },
  {
   "cell_type": "markdown",
   "source": [
    "## Feature Scaling"
   ],
   "metadata": {
    "collapsed": false
   }
  },
  {
   "cell_type": "code",
   "execution_count": 59,
   "outputs": [
    {
     "data": {
      "text/plain": "array([[-0.86245415, -0.29592245, -0.97565626, ...,  0.44846618,\n        -0.07401297, -0.88034606],\n       [-0.86245415,  0.98825632,  0.00952905, ..., -0.59776524,\n        -1.31126131, -0.3974858 ],\n       [-0.86245415,  1.3384869 ,  0.00952905, ...,  3.09337832,\n        -1.55871098, -0.17800387],\n       ...,\n       [ 1.15948193,  0.05430812,  0.99471437, ...,  0.11846328,\n         0.99826892, -0.22190025],\n       [ 1.15948193, -0.5294095 ,  1.97989969, ..., -0.38265224,\n         0.58585281,  1.0071986 ],\n       [-0.86245415,  0.05430812, -0.97565626, ..., -0.66376582,\n        -1.06381164, -0.30969303]])"
     },
     "execution_count": 59,
     "metadata": {},
     "output_type": "execute_result"
    }
   ],
   "source": [
    "sc_x = StandardScaler()\n",
    "x_train = sc_x.fit_transform(x_train)\n",
    "x_test = sc_x.transform(x_test)\n",
    "x_test"
   ],
   "metadata": {
    "collapsed": false
   }
  },
  {
   "cell_type": "markdown",
   "source": [
    "## Building & Training ANN Model"
   ],
   "metadata": {
    "collapsed": false
   }
  },
  {
   "cell_type": "code",
   "execution_count": 60,
   "outputs": [
    {
     "name": "stdout",
     "output_type": "stream",
     "text": [
      "Epoch 1/150\n",
      "106/106 [==============================] - 1s 1ms/step - loss: 0.4291 - accuracy: 0.8481\n",
      "Epoch 2/150\n",
      "106/106 [==============================] - 0s 1ms/step - loss: 0.3865 - accuracy: 0.8522\n",
      "Epoch 3/150\n",
      "106/106 [==============================] - 0s 1ms/step - loss: 0.3768 - accuracy: 0.8546\n",
      "Epoch 4/150\n",
      "106/106 [==============================] - 0s 1ms/step - loss: 0.3736 - accuracy: 0.8566\n",
      "Epoch 5/150\n",
      "106/106 [==============================] - 0s 1ms/step - loss: 0.3685 - accuracy: 0.8590\n",
      "Epoch 6/150\n",
      "106/106 [==============================] - 0s 1ms/step - loss: 0.3646 - accuracy: 0.8587\n",
      "Epoch 7/150\n",
      "106/106 [==============================] - 0s 1ms/step - loss: 0.3611 - accuracy: 0.8605\n",
      "Epoch 8/150\n",
      "106/106 [==============================] - 0s 2ms/step - loss: 0.3567 - accuracy: 0.8617\n",
      "Epoch 9/150\n",
      "106/106 [==============================] - 0s 1ms/step - loss: 0.3555 - accuracy: 0.8628\n",
      "Epoch 10/150\n",
      "106/106 [==============================] - 0s 1ms/step - loss: 0.3507 - accuracy: 0.8634\n",
      "Epoch 11/150\n",
      "106/106 [==============================] - 0s 1ms/step - loss: 0.3463 - accuracy: 0.8625\n",
      "Epoch 12/150\n",
      "106/106 [==============================] - 0s 1ms/step - loss: 0.3418 - accuracy: 0.8646\n",
      "Epoch 13/150\n",
      "106/106 [==============================] - 0s 1ms/step - loss: 0.3357 - accuracy: 0.8673\n",
      "Epoch 14/150\n",
      "106/106 [==============================] - 0s 1ms/step - loss: 0.3353 - accuracy: 0.8708\n",
      "Epoch 15/150\n",
      "106/106 [==============================] - 0s 1ms/step - loss: 0.3283 - accuracy: 0.8676\n",
      "Epoch 16/150\n",
      "106/106 [==============================] - 0s 2ms/step - loss: 0.3261 - accuracy: 0.8723\n",
      "Epoch 17/150\n",
      "106/106 [==============================] - 0s 2ms/step - loss: 0.3186 - accuracy: 0.8767\n",
      "Epoch 18/150\n",
      "106/106 [==============================] - 0s 1ms/step - loss: 0.3151 - accuracy: 0.8764\n",
      "Epoch 19/150\n",
      "106/106 [==============================] - 0s 2ms/step - loss: 0.3085 - accuracy: 0.8785\n",
      "Epoch 20/150\n",
      "106/106 [==============================] - 0s 2ms/step - loss: 0.3048 - accuracy: 0.8788\n",
      "Epoch 21/150\n",
      "106/106 [==============================] - 0s 2ms/step - loss: 0.2999 - accuracy: 0.8785\n",
      "Epoch 22/150\n",
      "106/106 [==============================] - 0s 1ms/step - loss: 0.2937 - accuracy: 0.8844\n",
      "Epoch 23/150\n",
      "106/106 [==============================] - 0s 1ms/step - loss: 0.2880 - accuracy: 0.8855\n",
      "Epoch 24/150\n",
      "106/106 [==============================] - 0s 1ms/step - loss: 0.2836 - accuracy: 0.8844\n",
      "Epoch 25/150\n",
      "106/106 [==============================] - 0s 1ms/step - loss: 0.2822 - accuracy: 0.8882\n",
      "Epoch 26/150\n",
      "106/106 [==============================] - 0s 1ms/step - loss: 0.2747 - accuracy: 0.8920\n",
      "Epoch 27/150\n",
      "106/106 [==============================] - 0s 1ms/step - loss: 0.2678 - accuracy: 0.8909\n",
      "Epoch 28/150\n",
      "106/106 [==============================] - 0s 1ms/step - loss: 0.2620 - accuracy: 0.8968\n",
      "Epoch 29/150\n",
      "106/106 [==============================] - 0s 1ms/step - loss: 0.2546 - accuracy: 0.9009\n",
      "Epoch 30/150\n",
      "106/106 [==============================] - 0s 1ms/step - loss: 0.2502 - accuracy: 0.9018\n",
      "Epoch 31/150\n",
      "106/106 [==============================] - 0s 1ms/step - loss: 0.2457 - accuracy: 0.9021\n",
      "Epoch 32/150\n",
      "106/106 [==============================] - 0s 1ms/step - loss: 0.2409 - accuracy: 0.9062\n",
      "Epoch 33/150\n",
      "106/106 [==============================] - 0s 2ms/step - loss: 0.2381 - accuracy: 0.9097\n",
      "Epoch 34/150\n",
      "106/106 [==============================] - 0s 1ms/step - loss: 0.2306 - accuracy: 0.9106\n",
      "Epoch 35/150\n",
      "106/106 [==============================] - 0s 1ms/step - loss: 0.2265 - accuracy: 0.9142\n",
      "Epoch 36/150\n",
      "106/106 [==============================] - 0s 1ms/step - loss: 0.2200 - accuracy: 0.9147\n",
      "Epoch 37/150\n",
      "106/106 [==============================] - 0s 1ms/step - loss: 0.2162 - accuracy: 0.9159\n",
      "Epoch 38/150\n",
      "106/106 [==============================] - 0s 1ms/step - loss: 0.2064 - accuracy: 0.9245\n",
      "Epoch 39/150\n",
      "106/106 [==============================] - 0s 1ms/step - loss: 0.2031 - accuracy: 0.9233\n",
      "Epoch 40/150\n",
      "106/106 [==============================] - 0s 1ms/step - loss: 0.2013 - accuracy: 0.9209\n",
      "Epoch 41/150\n",
      "106/106 [==============================] - 0s 1ms/step - loss: 0.1933 - accuracy: 0.9233\n",
      "Epoch 42/150\n",
      "106/106 [==============================] - 0s 1ms/step - loss: 0.1907 - accuracy: 0.9268\n",
      "Epoch 43/150\n",
      "106/106 [==============================] - 0s 1ms/step - loss: 0.1877 - accuracy: 0.9263\n",
      "Epoch 44/150\n",
      "106/106 [==============================] - 0s 1ms/step - loss: 0.1860 - accuracy: 0.9310\n",
      "Epoch 45/150\n",
      "106/106 [==============================] - 0s 1ms/step - loss: 0.1741 - accuracy: 0.9313\n",
      "Epoch 46/150\n",
      "106/106 [==============================] - 0s 1ms/step - loss: 0.1714 - accuracy: 0.9304\n",
      "Epoch 47/150\n",
      "106/106 [==============================] - 0s 1ms/step - loss: 0.1660 - accuracy: 0.9395\n",
      "Epoch 48/150\n",
      "106/106 [==============================] - 0s 1ms/step - loss: 0.1732 - accuracy: 0.9360\n",
      "Epoch 49/150\n",
      "106/106 [==============================] - 0s 1ms/step - loss: 0.1639 - accuracy: 0.9360\n",
      "Epoch 50/150\n",
      "106/106 [==============================] - 0s 1ms/step - loss: 0.1560 - accuracy: 0.9375\n",
      "Epoch 51/150\n",
      "106/106 [==============================] - 0s 1ms/step - loss: 0.1569 - accuracy: 0.9386\n",
      "Epoch 52/150\n",
      "106/106 [==============================] - 0s 1ms/step - loss: 0.1520 - accuracy: 0.9431\n",
      "Epoch 53/150\n",
      "106/106 [==============================] - 0s 1ms/step - loss: 0.1447 - accuracy: 0.9460\n",
      "Epoch 54/150\n",
      "106/106 [==============================] - 0s 1ms/step - loss: 0.1367 - accuracy: 0.9504\n",
      "Epoch 55/150\n",
      "106/106 [==============================] - 0s 1ms/step - loss: 0.1392 - accuracy: 0.9472\n",
      "Epoch 56/150\n",
      "106/106 [==============================] - 0s 1ms/step - loss: 0.1305 - accuracy: 0.9504\n",
      "Epoch 57/150\n",
      "106/106 [==============================] - 0s 1ms/step - loss: 0.1325 - accuracy: 0.9510\n",
      "Epoch 58/150\n",
      "106/106 [==============================] - 0s 1ms/step - loss: 0.1224 - accuracy: 0.9599\n",
      "Epoch 59/150\n",
      "106/106 [==============================] - 0s 1ms/step - loss: 0.1212 - accuracy: 0.9534\n",
      "Epoch 60/150\n",
      "106/106 [==============================] - 0s 1ms/step - loss: 0.1229 - accuracy: 0.9528\n",
      "Epoch 61/150\n",
      "106/106 [==============================] - 0s 1ms/step - loss: 0.1108 - accuracy: 0.9599\n",
      "Epoch 62/150\n",
      "106/106 [==============================] - 0s 1ms/step - loss: 0.1105 - accuracy: 0.9628\n",
      "Epoch 63/150\n",
      "106/106 [==============================] - 0s 1ms/step - loss: 0.1201 - accuracy: 0.9605\n",
      "Epoch 64/150\n",
      "106/106 [==============================] - 0s 1ms/step - loss: 0.1151 - accuracy: 0.9578\n",
      "Epoch 65/150\n",
      "106/106 [==============================] - 0s 1ms/step - loss: 0.1092 - accuracy: 0.9619\n",
      "Epoch 66/150\n",
      "106/106 [==============================] - 0s 1ms/step - loss: 0.1085 - accuracy: 0.9622\n",
      "Epoch 67/150\n",
      "106/106 [==============================] - 0s 1ms/step - loss: 0.1000 - accuracy: 0.9614\n",
      "Epoch 68/150\n",
      "106/106 [==============================] - 0s 1ms/step - loss: 0.0903 - accuracy: 0.9729\n",
      "Epoch 69/150\n",
      "106/106 [==============================] - 0s 1ms/step - loss: 0.0887 - accuracy: 0.9696\n",
      "Epoch 70/150\n",
      "106/106 [==============================] - 0s 1ms/step - loss: 0.0926 - accuracy: 0.9690\n",
      "Epoch 71/150\n",
      "106/106 [==============================] - 0s 1ms/step - loss: 0.0897 - accuracy: 0.9696\n",
      "Epoch 72/150\n",
      "106/106 [==============================] - 0s 1ms/step - loss: 0.0812 - accuracy: 0.9723\n",
      "Epoch 73/150\n",
      "106/106 [==============================] - 0s 1ms/step - loss: 0.0794 - accuracy: 0.9740\n",
      "Epoch 74/150\n",
      "106/106 [==============================] - 0s 1ms/step - loss: 0.0743 - accuracy: 0.9749\n",
      "Epoch 75/150\n",
      "106/106 [==============================] - 0s 1ms/step - loss: 0.0773 - accuracy: 0.9749\n",
      "Epoch 76/150\n",
      "106/106 [==============================] - 0s 1ms/step - loss: 0.0711 - accuracy: 0.9779\n",
      "Epoch 77/150\n",
      "106/106 [==============================] - 0s 1ms/step - loss: 0.0675 - accuracy: 0.9820\n",
      "Epoch 78/150\n",
      "106/106 [==============================] - 0s 1ms/step - loss: 0.0743 - accuracy: 0.9746\n",
      "Epoch 79/150\n",
      "106/106 [==============================] - 0s 1ms/step - loss: 0.0714 - accuracy: 0.9767\n",
      "Epoch 80/150\n",
      "106/106 [==============================] - 0s 1ms/step - loss: 0.0675 - accuracy: 0.9802\n",
      "Epoch 81/150\n",
      "106/106 [==============================] - 0s 1ms/step - loss: 0.0638 - accuracy: 0.9791\n",
      "Epoch 82/150\n",
      "106/106 [==============================] - 0s 1ms/step - loss: 0.0736 - accuracy: 0.9773\n",
      "Epoch 83/150\n",
      "106/106 [==============================] - 0s 1ms/step - loss: 0.0748 - accuracy: 0.9735\n",
      "Epoch 84/150\n",
      "106/106 [==============================] - 0s 1ms/step - loss: 0.0828 - accuracy: 0.9711\n",
      "Epoch 85/150\n",
      "106/106 [==============================] - 0s 1ms/step - loss: 0.0722 - accuracy: 0.9761\n",
      "Epoch 86/150\n",
      "106/106 [==============================] - 0s 1ms/step - loss: 0.0501 - accuracy: 0.9867\n",
      "Epoch 87/150\n",
      "106/106 [==============================] - 0s 1ms/step - loss: 0.0477 - accuracy: 0.9885\n",
      "Epoch 88/150\n",
      "106/106 [==============================] - 0s 1ms/step - loss: 0.0469 - accuracy: 0.9858\n",
      "Epoch 89/150\n",
      "106/106 [==============================] - 0s 1ms/step - loss: 0.0422 - accuracy: 0.9900\n",
      "Epoch 90/150\n",
      "106/106 [==============================] - 0s 1ms/step - loss: 0.0445 - accuracy: 0.9879\n",
      "Epoch 91/150\n",
      "106/106 [==============================] - 0s 1ms/step - loss: 0.0457 - accuracy: 0.9894\n",
      "Epoch 92/150\n",
      "106/106 [==============================] - 0s 1ms/step - loss: 0.0877 - accuracy: 0.9711\n",
      "Epoch 93/150\n",
      "106/106 [==============================] - 0s 1ms/step - loss: 0.0651 - accuracy: 0.9776\n",
      "Epoch 94/150\n",
      "106/106 [==============================] - 0s 1ms/step - loss: 0.0708 - accuracy: 0.9782\n",
      "Epoch 95/150\n",
      "106/106 [==============================] - 0s 1ms/step - loss: 0.0532 - accuracy: 0.9835\n",
      "Epoch 96/150\n",
      "106/106 [==============================] - 0s 1ms/step - loss: 0.0492 - accuracy: 0.9853\n",
      "Epoch 97/150\n",
      "106/106 [==============================] - 0s 1ms/step - loss: 0.0392 - accuracy: 0.9900\n",
      "Epoch 98/150\n",
      "106/106 [==============================] - 0s 1ms/step - loss: 0.0344 - accuracy: 0.9938\n",
      "Epoch 99/150\n",
      "106/106 [==============================] - 0s 1ms/step - loss: 0.0313 - accuracy: 0.9950\n",
      "Epoch 100/150\n",
      "106/106 [==============================] - 0s 1ms/step - loss: 0.0286 - accuracy: 0.9953\n",
      "Epoch 101/150\n",
      "106/106 [==============================] - 0s 1ms/step - loss: 0.0320 - accuracy: 0.9923\n",
      "Epoch 102/150\n",
      "106/106 [==============================] - 0s 1ms/step - loss: 0.0267 - accuracy: 0.9950\n",
      "Epoch 103/150\n",
      "106/106 [==============================] - 0s 1ms/step - loss: 0.0342 - accuracy: 0.9917\n",
      "Epoch 104/150\n",
      "106/106 [==============================] - 0s 1ms/step - loss: 0.0276 - accuracy: 0.9950\n",
      "Epoch 105/150\n",
      "106/106 [==============================] - 0s 1ms/step - loss: 0.0261 - accuracy: 0.9947\n",
      "Epoch 106/150\n",
      "106/106 [==============================] - 0s 1ms/step - loss: 0.0264 - accuracy: 0.9956\n",
      "Epoch 107/150\n",
      "106/106 [==============================] - 0s 1ms/step - loss: 0.0557 - accuracy: 0.9829\n",
      "Epoch 108/150\n",
      "106/106 [==============================] - 0s 1ms/step - loss: 0.1110 - accuracy: 0.9558\n",
      "Epoch 109/150\n",
      "106/106 [==============================] - 0s 1ms/step - loss: 0.0864 - accuracy: 0.9664\n",
      "Epoch 110/150\n",
      "106/106 [==============================] - 0s 1ms/step - loss: 0.0485 - accuracy: 0.9867\n",
      "Epoch 111/150\n",
      "106/106 [==============================] - 0s 1ms/step - loss: 0.0364 - accuracy: 0.9914\n",
      "Epoch 112/150\n",
      "106/106 [==============================] - 0s 1ms/step - loss: 0.0216 - accuracy: 0.9971\n",
      "Epoch 113/150\n",
      "106/106 [==============================] - 0s 1ms/step - loss: 0.0184 - accuracy: 0.9973\n",
      "Epoch 114/150\n",
      "106/106 [==============================] - 0s 1ms/step - loss: 0.0170 - accuracy: 0.9979\n",
      "Epoch 115/150\n",
      "106/106 [==============================] - 0s 1ms/step - loss: 0.0174 - accuracy: 0.9971\n",
      "Epoch 116/150\n",
      "106/106 [==============================] - 0s 1ms/step - loss: 0.0179 - accuracy: 0.9968\n",
      "Epoch 117/150\n",
      "106/106 [==============================] - 0s 1ms/step - loss: 0.0150 - accuracy: 0.9982\n",
      "Epoch 118/150\n",
      "106/106 [==============================] - 0s 1ms/step - loss: 0.0160 - accuracy: 0.9982\n",
      "Epoch 119/150\n",
      "106/106 [==============================] - 0s 1ms/step - loss: 0.0143 - accuracy: 0.9985\n",
      "Epoch 120/150\n",
      "106/106 [==============================] - 0s 1ms/step - loss: 0.0141 - accuracy: 0.9982\n",
      "Epoch 121/150\n",
      "106/106 [==============================] - 0s 1ms/step - loss: 0.0151 - accuracy: 0.9971\n",
      "Epoch 122/150\n",
      "106/106 [==============================] - 0s 1ms/step - loss: 0.0158 - accuracy: 0.9976\n",
      "Epoch 123/150\n",
      "106/106 [==============================] - 0s 1ms/step - loss: 0.0146 - accuracy: 0.9982\n",
      "Epoch 124/150\n",
      "106/106 [==============================] - 0s 1ms/step - loss: 0.0144 - accuracy: 0.9982\n",
      "Epoch 125/150\n",
      "106/106 [==============================] - 0s 1ms/step - loss: 0.0155 - accuracy: 0.9973\n",
      "Epoch 126/150\n",
      "106/106 [==============================] - 0s 1ms/step - loss: 0.0564 - accuracy: 0.9808\n",
      "Epoch 127/150\n",
      "106/106 [==============================] - 0s 1ms/step - loss: 0.1869 - accuracy: 0.9416\n",
      "Epoch 128/150\n",
      "106/106 [==============================] - 0s 1ms/step - loss: 0.0962 - accuracy: 0.9690\n",
      "Epoch 129/150\n",
      "106/106 [==============================] - 0s 1ms/step - loss: 0.0511 - accuracy: 0.9835\n",
      "Epoch 130/150\n",
      "106/106 [==============================] - 0s 1ms/step - loss: 0.0254 - accuracy: 0.9944\n",
      "Epoch 131/150\n",
      "106/106 [==============================] - 0s 1ms/step - loss: 0.0161 - accuracy: 0.9979\n",
      "Epoch 132/150\n",
      "106/106 [==============================] - 0s 1ms/step - loss: 0.0127 - accuracy: 0.9988\n",
      "Epoch 133/150\n",
      "106/106 [==============================] - 0s 1ms/step - loss: 0.0105 - accuracy: 0.9988\n",
      "Epoch 134/150\n",
      "106/106 [==============================] - 0s 1ms/step - loss: 0.0096 - accuracy: 1.0000\n",
      "Epoch 135/150\n",
      "106/106 [==============================] - 0s 1ms/step - loss: 0.0094 - accuracy: 0.9994\n",
      "Epoch 136/150\n",
      "106/106 [==============================] - 0s 1ms/step - loss: 0.0108 - accuracy: 0.9985\n",
      "Epoch 137/150\n",
      "106/106 [==============================] - 0s 1ms/step - loss: 0.0081 - accuracy: 1.0000\n",
      "Epoch 138/150\n",
      "106/106 [==============================] - 0s 1ms/step - loss: 0.0089 - accuracy: 0.9991\n",
      "Epoch 139/150\n",
      "106/106 [==============================] - 0s 1ms/step - loss: 0.0082 - accuracy: 0.9991\n",
      "Epoch 140/150\n",
      "106/106 [==============================] - 0s 1ms/step - loss: 0.0070 - accuracy: 1.0000\n",
      "Epoch 141/150\n",
      "106/106 [==============================] - 0s 1ms/step - loss: 0.0100 - accuracy: 0.9979\n",
      "Epoch 142/150\n",
      "106/106 [==============================] - 0s 1ms/step - loss: 0.0082 - accuracy: 0.9994\n",
      "Epoch 143/150\n",
      "106/106 [==============================] - 0s 1ms/step - loss: 0.0120 - accuracy: 0.9976\n",
      "Epoch 144/150\n",
      "106/106 [==============================] - 0s 1ms/step - loss: 0.0204 - accuracy: 0.9944\n",
      "Epoch 145/150\n",
      "106/106 [==============================] - 0s 1ms/step - loss: 0.1128 - accuracy: 0.9661\n",
      "Epoch 146/150\n",
      "106/106 [==============================] - 0s 1ms/step - loss: 0.1146 - accuracy: 0.9599\n",
      "Epoch 147/150\n",
      "106/106 [==============================] - 0s 1ms/step - loss: 0.0445 - accuracy: 0.9835\n",
      "Epoch 148/150\n",
      "106/106 [==============================] - 0s 1ms/step - loss: 0.0289 - accuracy: 0.9923\n",
      "Epoch 149/150\n",
      "106/106 [==============================] - 0s 1ms/step - loss: 0.0279 - accuracy: 0.9914\n",
      "Epoch 150/150\n",
      "106/106 [==============================] - 0s 1ms/step - loss: 0.0193 - accuracy: 0.9956\n",
      "27/27 [==============================] - 0s 851us/step\n"
     ]
    }
   ],
   "source": [
    "ann = tf.keras.models.Sequential()\n",
    "\n",
    "# Adding the input layer\n",
    "ann.add(tf.keras.layers.Dense(units=50, activation='relu'))\n",
    "\n",
    "# Adding the hidden layers\n",
    "ann.add(tf.keras.layers.Dense(units=50, activation='relu'))\n",
    "ann.add(tf.keras.layers.Dense(units=50, activation='relu'))\n",
    "\n",
    "# Adding the output layer\n",
    "ann.add(tf.keras.layers.Dense(units=1, activation='sigmoid'))\n",
    "\n",
    "# Compiling the ANN\n",
    "ann.compile(optimizer = 'adam', loss = 'binary_crossentropy', metrics = ['accuracy'])\n",
    "\n",
    "# Training the ANN on the Training set\n",
    "ann.fit(x_train, y_train, batch_size = 32, epochs = 150)\n",
    "y_pred = ann.predict(x_test)\n",
    "y_pred = (y_pred > 0.5)"
   ],
   "metadata": {
    "collapsed": false
   }
  },
  {
   "cell_type": "markdown",
   "source": [
    "#### Evaluation"
   ],
   "metadata": {
    "collapsed": false
   }
  },
  {
   "cell_type": "code",
   "execution_count": 61,
   "outputs": [
    {
     "name": "stdout",
     "output_type": "stream",
     "text": [
      "[[0 0]\n",
      " [1 0]\n",
      " [1 0]\n",
      " ...\n",
      " [0 0]\n",
      " [1 0]\n",
      " [0 0]]\n",
      "Accuracy is: 0.7877358490566038\n"
     ]
    },
    {
     "data": {
      "text/plain": "<Figure size 800x500 with 2 Axes>",
      "image/png": "[encoded data removed]"
     },
     "metadata": {},
     "output_type": "display_data"
    }
   ],
   "source": [
    "print(np.concatenate((y_pred.reshape(len(y_pred),1), y_test.reshape(len(y_test),1)),1))\n",
    "\n",
    "# Making the Confusion Matrix\n",
    "cm = confusion_matrix(y_test, y_pred)\n",
    "print('Accuracy is:', accuracy_score(y_test, y_pred))\n",
    "plt.figure(figsize=(8, 5))\n",
    "sns.heatmap(cm, annot=True, fmt='d',\n",
    "            cmap='PuRd', cbar=True, xticklabels=['Predicted 0', 'Predicted 1'], yticklabels=['Actual 0', 'Actual 1'])\n",
    "plt.ylabel('True label')\n",
    "plt.xlabel('Predicted label')\n",
    "plt.title(f'Confusion Matrix (Accuracy: {accuracy_score(y_test, y_pred) * 100:.2f}%)')\n",
    "plt.show()"
   ],
   "metadata": {
    "collapsed": false
   }
  },
  {
   "cell_type": "markdown",
   "source": [
    "#### Save The Model If You Wish!"
   ],
   "metadata": {
    "collapsed": false
   }
  },
  {
   "cell_type": "code",
   "execution_count": null,
   "outputs": [],
   "source": [
    "ann.save('MyModel.h5')"
   ],
   "metadata": {
    "collapsed": false
   }
  }
 ],
 "metadata": {
  "kernelspec": {
   "display_name": "Python 3",
   "language": "python",
   "name": "python3"
  },
  "language_info": {
   "codemirror_mode": {
    "name": "ipython",
    "version": 2
   },
   "file_extension": ".py",
   "mimetype": "text/x-python",
   "name": "python",
   "nbconvert_exporter": "python",
   "pygments_lexer": "ipython2",
   "version": "2.7.6"
  }
 },
 "nbformat": 4,
 "nbformat_minor": 0
}
